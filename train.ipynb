{
 "cells": [
  {
   "cell_type": "code",
   "execution_count": 6,
   "metadata": {},
   "outputs": [],
   "source": [
    "import os\n",
    "import utils\n",
    "import torch\n",
    "from torch.utils.data import DataLoader\n",
    "\n",
    "from data_apis.corpus_eng import SWDADialogCorpus\n",
    "from data_apis.dataset import CVAEDataset\n",
    "from data_apis.dataloader import get_cvae_collate\n",
    "\n",
    "from trainer.cvae.trainer import CVAETrainer\n",
    "\n",
    "from model.cvae import CVAEModel\n",
    "\n",
    "os.environ[\"CUDA_VISIBLE_DEVICES\"] = \"0\"\n",
    "\n",
    "corpus_config_path = './config/english/cvae_corpus_eng.json'\n",
    "dataset_config_path = './config/english/cvae_dataset_eng.json'\n",
    "trainer_config_path = './config/english/cvae_trainer_eng.json'\n",
    "model_config_path = './config/english/cvae_model_eng.json'\n",
    "\n",
    "language = \"eng\"\n",
    "\n",
    "debug = True"
   ]
  },
  {
   "cell_type": "code",
   "execution_count": 2,
   "metadata": {},
   "outputs": [
    {
     "name": "stdout",
     "output_type": "stream",
     "text": [
      "Start process train corpus...\n",
      "Max utt len 96, mean utt len 14.69\n",
      "Start process test corpus...\n",
      "Max utt len 74, mean utt len 15.39\n",
      "Start process valid corpus...\n",
      "Max utt len 75, mean utt len 15.06\n",
      "Start building / laoding vocab\n",
      "Load corpus with train size 3, valid size 3, test size 3 raw vocab size 24497 vocab size 10000 at cut_off 4 OOV rate 0.008035\n",
      "<d> index 143\n",
      "<sil> index -1\n",
      "67 topics in train data\n",
      "['statement-non-opinion', 'acknowledge_(backchannel)', 'statement-opinion', 'abandoned_or_turn-exit/uninterpretable', 'yes-no-question', 'agree/accept', 'appreciation', 'wh-question', 'backchannel_in_question_form', 'yes_answers', 'conventional-closing', 'response_acknowledgement', 'open-question', 'no_answers', 'affirmative_non-yes_answers', 'declarative_yes-no-question', 'summarize/reformulate', 'other', 'action-directive', 'rhetorical-questions', 'conventional-opening', 'collaborative_completion', 'signal-non-understanding', 'or-clause', 'hold_before_answer/agreement', 'quotation', 'negative_non-no_answers', 'self-talk', 'apology', 'dispreferred_answers', 'offers,_options_commits', 'other_answers', 'reject', 'repeat-phrase', 'non-verbal', 'declarative_wh-question', 'thanking', 'hedge', 'maybe/accept-part', '3rd-party-talk', 'downplayer', 'tag-question']\n",
      "42 dialog acts in train data\n",
      "Done loading corpus\n",
      "Max len 265 and min len 10 and avg len 90.737910\n",
      "Max len 191 and min len 34 and avg len 88.083333\n",
      "Max len 207 and min len 14 and avg len 90.403226\n",
      "joint_embedding_size: 602\n",
      "cond_embedding_size: 675\n",
      "recog_input_size: 1305\n",
      "gen_input_size: 875\n",
      "dec_input_size: 905\n"
     ]
    }
   ],
   "source": [
    "corpus_config = utils.load_config(corpus_config_path)\n",
    "corpus = SWDADialogCorpus(corpus_config)\n",
    "\n",
    "dial_corpus = corpus.get_dialog_corpus()\n",
    "meta_corpus = corpus.get_meta_corpus()\n",
    "\n",
    "train_meta, valid_meta, test_meta = meta_corpus.get(\"train\"), meta_corpus.get(\"valid\"), meta_corpus.get(\"test\")\n",
    "train_dial, valid_dial, test_dial = dial_corpus.get(\"train\"), dial_corpus.get(\"valid\"), dial_corpus.get(\"test\")\n",
    "\n",
    "# Generate Dataset\n",
    "dataset_config = utils.load_config(dataset_config_path)\n",
    "utt_per_case = dataset_config[\"utt_per_case\"]\n",
    "max_utt_size = dataset_config[\"max_utt_len\"]\n",
    "\n",
    "train_set = CVAEDataset(\"Train\", train_dial, train_meta, language, dataset_config)\n",
    "valid_set = CVAEDataset(\"Valid\", valid_dial, valid_meta, language, dataset_config)\n",
    "test_set = CVAEDataset(\"Test\", test_dial, test_meta, language, dataset_config)\n",
    "\n",
    "cvae_collate = get_cvae_collate(utt_per_case, max_utt_size)"
   ]
  },
  {
   "cell_type": "code",
   "execution_count": 7,
   "metadata": {},
   "outputs": [
    {
     "name": "stdout",
     "output_type": "stream",
     "text": [
      "debug: True\n"
     ]
    }
   ],
   "source": [
    "if debug:\n",
    "    print(f'debug: {debug}')\n",
    "    _train_set = train_set[:10]\n",
    "    _valid_set = valid_set[:10]\n",
    "    _test_set = test_set[:10]\n",
    "\n",
    "train_loader = DataLoader(_train_set, batch_size=100, shuffle=True, collate_fn=cvae_collate)\n",
    "valid_loader = DataLoader(_valid_set, batch_size=60, shuffle=False, collate_fn=cvae_collate)\n",
    "test_loader = DataLoader(_test_set, batch_size=60, shuffle=False, collate_fn=cvae_collate)"
   ]
  },
  {
   "cell_type": "code",
   "execution_count": 8,
   "metadata": {},
   "outputs": [
    {
     "name": "stdout",
     "output_type": "stream",
     "text": [
      "joint_embedding_size: 602\n",
      "cond_embedding_size: 675\n",
      "recog_input_size: 1305\n",
      "gen_input_size: 875\n",
      "dec_input_size: 905\n"
     ]
    }
   ],
   "source": [
    "trainer_config = utils.load_config(trainer_config_path)\n",
    "model_config = utils.load_config(model_config_path)\n",
    "\n",
    "target_model = CVAEModel(dataset_config, model_config, corpus)\n",
    "if torch.cuda.is_available():\n",
    "    target_model.cuda()\n",
    "cvae_trainer = CVAETrainer(trainer_config, target_model)"
   ]
  },
  {
   "cell_type": "code",
   "execution_count": 10,
   "metadata": {
    "scrolled": false
   },
   "outputs": [],
   "source": [
    "output_reports = cvae_trainer.experiment(train_loader, valid_loader, test_loader)"
   ]
  }
 ],
 "metadata": {
  "kernelspec": {
   "display_name": "Python 3",
   "language": "python",
   "name": "python3"
  },
  "language_info": {
   "codemirror_mode": {
    "name": "ipython",
    "version": 3
   },
   "file_extension": ".py",
   "mimetype": "text/x-python",
   "name": "python",
   "nbconvert_exporter": "python",
   "pygments_lexer": "ipython3",
   "version": "3.7.2"
  }
 },
 "nbformat": 4,
 "nbformat_minor": 2
}
